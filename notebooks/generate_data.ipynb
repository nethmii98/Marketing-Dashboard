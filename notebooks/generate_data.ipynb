{
 "cells": [
  {
   "cell_type": "code",
   "execution_count": 6,
   "id": "8ca446dc",
   "metadata": {},
   "outputs": [],
   "source": [
    "import os\n",
    "\n",
    "file_path = \"../data/raw/marketing_metrics.csv\"\n",
    "os.makedirs(os.path.dirname(file_path), exist_ok=True)"
   ]
  },
  {
   "cell_type": "code",
   "execution_count": 8,
   "id": "b081c506",
   "metadata": {},
   "outputs": [],
   "source": [
    "import csv, random, datetime as dt\n",
    "\n",
    "channels = [\n",
    "    (\"social\",\"LinkedIn\"), (\"social\",\"Instagram\"),\n",
    "    (\"email\",\"Mailchimp\"), (\"website\",\"Organic\"), (\"paid\",\"GoogleAds\")\n",
    "]\n",
    "\n",
    "start = dt.date(2025, 1, 1)\n",
    "days = 297\n",
    "\n",
    "with open(file_path,\"w\",newline=\"\") as f:\n",
    "    w = csv.writer(f)\n",
    "    w.writerow([\"date\",\"channel\",\"platform\",\"campaign\",\"impressions\",\"clicks\",\"page_views\",\"conversions\",\"revenue\",\"cost\"])\n",
    "    for d in range(days):\n",
    "        day = start + dt.timedelta(days=d)\n",
    "        for ch, pf in channels:\n",
    "            imp = random.randint(3000, 20000)\n",
    "            clk = int(imp * random.uniform(0.01, 0.05))\n",
    "            pv  = int(clk * random.uniform(0.5, 1.5))\n",
    "            conv= int(pv * random.uniform(0.02, 0.1))\n",
    "            rev = round(conv * random.uniform(10, 50), 2)\n",
    "            cost= round(imp * (0.002 if ch!=\"paid\" else 0.02), 2)\n",
    "            w.writerow([day, ch, pf, f\"{pf}_Sept\", imp, clk, pv, conv, rev, cost])\n"
   ]
  },
  {
   "cell_type": "code",
   "execution_count": null,
   "id": "509fbecb",
   "metadata": {},
   "outputs": [],
   "source": []
  }
 ],
 "metadata": {
  "kernelspec": {
   "display_name": "Python 3",
   "language": "python",
   "name": "python3"
  },
  "language_info": {
   "codemirror_mode": {
    "name": "ipython",
    "version": 3
   },
   "file_extension": ".py",
   "mimetype": "text/x-python",
   "name": "python",
   "nbconvert_exporter": "python",
   "pygments_lexer": "ipython3",
   "version": "3.13.6"
  }
 },
 "nbformat": 4,
 "nbformat_minor": 5
}
